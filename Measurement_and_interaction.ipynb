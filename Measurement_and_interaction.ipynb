{
  "nbformat": 4,
  "nbformat_minor": 0,
  "metadata": {
    "colab": {
      "name": "Measurement_and_interaction.ipynb",
      "provenance": []
    },
    "kernelspec": {
      "name": "python3",
      "display_name": "Python 3"
    }
  },
  "cells": [
    {
      "cell_type": "markdown",
      "metadata": {
        "id": "Mmhoedz4a2AT",
        "colab_type": "text"
      },
      "source": [
        "This is a continuation of the discussion of probabilities and quantum mechanics initiated in the notebook [Probability and quantum mechanics](https://github.com/Goykhman/Probability_and_quantum_mechanics/blob/master/Probability_and_quantum_mechanics.ipynb). We will assume that the reader of this notebook is well familiar with the arguments made in the [previous notebook](https://github.com/Goykhman/Probability_and_quantum_mechanics/blob/master/Probability_and_quantum_mechanics.ipynb)."
      ]
    },
    {
      "cell_type": "markdown",
      "metadata": {
        "id": "zqtOB7J_bOW7",
        "colab_type": "text"
      },
      "source": [
        "The key argument made in the [previous notebook](https://github.com/Goykhman/Probability_and_quantum_mechanics/blob/master/Probability_and_quantum_mechanics.ipynb) was that the wave function in quantum mechanics describes uncertain knowledge of an observer, and its collapse due to an act of observation corresponds to the update of the knowledge of the observer, rather than to the dynamics of the system. This agrees with the conventional meaning of probability as an extension of logic to the realm of judgments under the conditions of uncertainty."
      ]
    },
    {
      "cell_type": "markdown",
      "metadata": {
        "id": "l2k7tQTgbs6_",
        "colab_type": "text"
      },
      "source": [
        "Let us discuss the role of measurement in the [double-slit experiment](https://en.wikipedia.org/wiki/Double-slit_experiment). The setting of the experiment is as follows. We have a screen with two slits A and B, and a photographic plate located behind the screen (and positioned parallel to the screen). An electron cannon is shooting an electron beam directed at the screen. For simplicity we suppose that each electron is prepared in an identical initial state, and travels with the momentum $p$ directed towards the screen."
      ]
    },
    {
      "cell_type": "markdown",
      "metadata": {
        "id": "gIFff6wFdt6w",
        "colab_type": "text"
      },
      "source": [
        "In other words, each electron is assumed to be prepared in the pure state with the plane wave function $\\psi(t,x)\\sim e^{ip x-i\\omega t}$ where $x$ is the direction orthogonal to the screen (and the photographic plate), and $p$ is the momentum of the electron. The role of the screen (for the purpose of the double-slit experiment) is to essentially impose the boundary conditions on the electron wave function right behind the screen. Such boundary conditions can be interpreted as having two (small-sized) sources, located at the slits A and B. These are the sources of the electron wave behind the screen, which is essentially a quantum-mechanical manifestation of the [Huygens principle](https://en.wikipedia.org/wiki/Huygens–Fresnel_principle)."
      ]
    },
    {
      "cell_type": "markdown",
      "metadata": {
        "id": "V-7Y5Cm7eGVH",
        "colab_type": "text"
      },
      "source": [
        "So far the set-up of this experiment is purely quantum-coherent: the main macroscopic object involved in the experiment - the screen with the slits A and B - is imposing the boundary conditions on the electron wave function without destroying the quantum coherence of the experiment. The screen can be modeled by an infinite potential wall at all points except for the slits A and B so that electrons (which don't hit the slits) reflect from the wall (some electrons might also fly around the screen: we will neglect this small contribution to the superposition state of the electron). We are interested in the component of the wave function which describes electrons passing through either of the slits A or B. The latter can be represented as a superposition of the electron waves emitted from the slits A and B, as we discussed above."
      ]
    },
    {
      "cell_type": "markdown",
      "metadata": {
        "id": "08JFpNAIgi4s",
        "colab_type": "text"
      },
      "source": [
        "In such a quantum-coherent setup we expect the quantum interference to take place. Indeed, the electron waves emitted from the slits A and B are coherent sources of quantum electron wave of probability. These two components of the electron wave function superposition will interfere with each other, resulting in the interference pattern on the photographic plate located behind the screen. That is, each electron will land at only one spot on the plate (unlike the classical wave), but when the experiment is repeated many times in the identical conditions the observed density of electron traces on the photoelectric plate (the histogram) will have the structure of an interference pattern of an optical wave with the wavelength $\\lambda=\\hbar/p$ equal to the de Broigle wave-length."
      ]
    },
    {
      "cell_type": "markdown",
      "metadata": {
        "id": "JlOf1yJIi3lN",
        "colab_type": "text"
      },
      "source": [
        "It is well-known that if we place detectors next to the slits A and B, we will destroy the interference pattern on the photographic plate behind the screen. For instance, if the detector B goes off, we know that the electron went through the slit B. The wave function of the electron right behind the screen then has the boundary conditions which essentially correspond to having just a single new source of the electron wave, the slit B, rather than the two coherent sources A and B of the experiment without detectors. "
      ]
    },
    {
      "cell_type": "markdown",
      "metadata": {
        "id": "qUnU5R6lkyV5",
        "colab_type": "text"
      },
      "source": [
        "A source of a finite size results in the diffraction of an electron wave. Diffraction is a particular case of an interference: in this case, it's the interference of waves emitted by (imaginary) sources along the wavefront of a finite-sized slit B. So when the experiment is performed many times, we will still observe some non-trivial pattern on the photographic plate, consisting of two individual patterns behind slits A and B. Some electrons will pass through A and some will pass through B, for simplicity we can picture an experiment where the electron's state right after the screen (at the moment which we can denote as $t=+0$) is $|\\psi(0)\\rangle =\\frac{1}{\\sqrt{2}}|A\\rangle +\\frac{1}{\\sqrt{2}}|B\\rangle$ (at the moment $t=-0$ before arriving at the screen the electron is described by the state uniformly smeared over some macroscopic cross-section in the transversal plane), in which case the probability to pass through A is the same as the probability to pass through B."
      ]
    },
    {
      "cell_type": "markdown",
      "metadata": {
        "id": "PWGMWL56k0f3",
        "colab_type": "text"
      },
      "source": [
        "Yet the interference pattern observed on the photographic plate in the presence of the detectors will be manifestly different from the interference pattern observed on the photographic in the absence of the detectors. In the latter case, we will have interference peaks due to superpositions of the electron waves emitted from the sources A and B, which are manifestly absent when the detectors are installed. Importantly, the result of observation on the photographic plate changes when we install the detectors allowing us to see which of the two slits the electron went through."
      ]
    },
    {
      "cell_type": "markdown",
      "metadata": {
        "id": "_YftVkkzljdJ",
        "colab_type": "text"
      },
      "source": [
        "Quantum mechanics explains this experiment by the collapse of the wave function. If we do not measure which slit the electron went through, then the state of the electron passed through the screen (at the moment $t=+0$) is $|\\psi(0)\\rangle =\\frac{1}{\\sqrt{2}}|A\\rangle +\\frac{1}{\\sqrt{2}}|B\\rangle$. If we measure which slit the electron went through, the wave function will collapse to either $|A\\rangle$ (with the probability 0.5) or $|B\\rangle$ (with the probability 0.5). "
      ]
    },
    {
      "cell_type": "markdown",
      "metadata": {
        "id": "F1KNy3jAmZ66",
        "colab_type": "text"
      },
      "source": [
        "As we discussed [before](https://github.com/Goykhman/Probability_and_quantum_mechanics/blob/master/Probability_and_quantum_mechanics.ipynb), quantum mechanics explains the collapse of the wave function as an update of the knowledge of the observer, not as a dynamical process. Importantly, this agrees with the role of the wave function as a (complex and dynamical) probability wave, since by definition a probability always encodes uncertain knowledge of an observer. An observation allows one to update this knowledge (in fact, this update is prescribed by the probability theory, and is to be done using the Bayes theorem). In quantum mechanics, an uncertain knowledge regarding the physical system is encoded in the wave function, while the process of observation (measurement), during which the uncertainty of knowledge is (partially) resolved, is represented by the collapse of the wave function."
      ]
    },
    {
      "cell_type": "markdown",
      "metadata": {
        "id": "e6ZYIsIgx11v",
        "colab_type": "text"
      },
      "source": [
        "Notice that quantum mechanics explicitly separates the process in which the uncertain knowledge of an observer is updated from the process in which some classical detector is triggered. "
      ]
    },
    {
      "cell_type": "markdown",
      "metadata": {
        "id": "4lRdcX5KyWSf",
        "colab_type": "text"
      },
      "source": [
        "For instance, we could have noticed that having two detectors next to the slits A and B in the double-slit experiment unnecessary clutters the experimental set-up. Indeed, to detect which slit an electron went through it is enough to have just one detector. Let us keep the detector next to the slit A and remove the detector next to the slit B. If the electron hits the photographic plate behind the screen, i.e., if the electron actually went through one of the slits, we can detect which slit it went through using just the detector A. If the detector A triggered, then the electron went through the slit A. If the detector A *did not* trigger, yet the electron hit the photographic plate, then the electron went through B. This trivial piece of logic is easy to carry out, and it is obeyed by the wave function of the electron. A visual explanation of this experiment can be found [here](https://www.youtube.com/embed/vOv8zYla1wY) and it is based on the paper by Kwiat et al., [\"Experimental Realization of Interaction‐free Measurements\"](https://nyaspubs.onlinelibrary.wiley.com/doi/abs/10.1111/j.1749-6632.1995.tb38981.x)."
      ]
    },
    {
      "cell_type": "markdown",
      "metadata": {
        "id": "hdgCplWm0AHs",
        "colab_type": "text"
      },
      "source": [
        "The important consequence of installing *just one* detector A is that the interference pattern found in the absence of detectors is always destroyed. \n",
        "Indeed, if the detector A is triggered then the state of the electron collapses to $|A\\rangle$. But even if the detector A is *not* triggered (but the electron is later to be found on the photographic plate), that is, if the electron goes through B, the wave function of the electron still collapses: to $|B\\rangle$. In other words, the collapse of the wave function can occur without triggering a classical detector. This can be rephrased as performing a measurement without interaction, where interaction is meant as the process of changing the state of a classical detector (the interaction term in the Hamiltonian of the system, due to the presence of the detector, still exists)."
      ]
    },
    {
      "cell_type": "markdown",
      "metadata": {
        "id": "RZ-coEfQ1tRW",
        "colab_type": "text"
      },
      "source": [
        "In other words, the classical observer is able to *conclude* that the electron which is found behind the screen but which did not pass through the slit A *must have* passed through the slit B. Since this conclusion can be made in principle, the wave function of the electron will always collapse. It is not necessary to have a conscious observer in the lab who will actually do the logical deduction, yet the possibility to make those logical deductions *in principle* is enough to ensure that the wave function collapses. Quantum mechanics obeys this law, which can be experimentally verified by looking at the pattern detected on the photographic plate behind the screen, and finding that such a pattern will always lack interference when at least one detector has been installed."
      ]
    },
    {
      "cell_type": "markdown",
      "metadata": {
        "id": "AMoJ8U4A-3RJ",
        "colab_type": "text"
      },
      "source": [
        "We can consider the following classical counterpart of the non-dynamical essence of the update of the observer's state of knowledge. Suppose the observer is randomly drawing balls from a bag containing red and black balls. The observer doesn't know whether the drawn ball will be black or red, and describes this uncertainty of her knowledge quantitatively, by assigning certain probabilistic believes to various probabilistic models describing what will be the color of the ball. However, after each ball is drawn the observer \"measures\" what is the color of the ball, and uses the outcome of that measurement to update her believes using the Bayes theorem."
      ]
    },
    {
      "cell_type": "markdown",
      "metadata": {
        "id": "nO20tuBS_sZZ",
        "colab_type": "text"
      },
      "source": [
        "The measurement process allowing the observer to find out the color of the ball is rather complex: the light is scattered off the ball, it travels to the observer's eye, hits her retina, and triggers a nerve impulse which then travels to her brain, which completes the processing of the received information. Fundamentally all of these processes are described by quantum electrodynamics. However, one would never say that it implies that quantum electrodynamics is responsible for the update of the prior believes of the observer! The latter is done using the Bayes theorem and it is concerned with the knowledge of the observer. The knowledge of the observer, updated by the Bayes theorem, is not described by the quantum electrodynamics, despite the fact that the mechanisms of registering the color of the drawn ball are! Bayes theorem is not explained by quantum electrodynamics: these two frameworks are concerned with different subjects (the state of knowledge and the physical dynamics, respectively), and cannot possibly be used to explain each other."
      ]
    },
    {
      "cell_type": "markdown",
      "metadata": {
        "id": "Z5AKYn7VBSjq",
        "colab_type": "text"
      },
      "source": [
        "As was discussed by [von Neumann](https://www.amazon.com/Mathematical-Foundations-Quantum-Mechanics-New/dp/0691178569/ref=sr_1_1?dchild=1&keywords=von+neumann+mathematical+foundations+of+quantum+mechanics&qid=1598516745&sr=8-1) the question of \"when\" the observer found out what state the system is in (in our classical example, what is the color of the ball, or in the quantum setting which slit the electron went through) is ill-posed. There is some finite interval of time which one takes to process the knowledge of the state of the system. However, this non-locality in time does not pose conceptual difficulties, since it does not result in contradictions of which consequence follows from which cause. In other words, the evolution of the state of knowledge of the observer is well ordered in time (has the *ordinal* meaning), obeying the logical causal chain."
      ]
    },
    {
      "cell_type": "markdown",
      "metadata": {
        "id": "DC_-I1Ejn66o",
        "colab_type": "text"
      },
      "source": [
        "Returning back to quantum mechanics, suppose now that the observer $O_1$ is in the isolated room (that is, everything inside the room is described by a pure state in the Hilbert space which evolves according to the Schrodinger's equation), where she conducts the double-slit experiment. So far the set-up is identical to what we described above. In particular, the observer $O_1$ can explicitly demonstrate the different outcomes of a (repeated) experiment by noticing what happens when the detector(s) are placed or not placed by the slit(s)."
      ]
    },
    {
      "cell_type": "markdown",
      "metadata": {
        "id": "ihGQ8MGpvurv",
        "colab_type": "text"
      },
      "source": [
        "If the observer $O_1$ measures which slit the electron went through (using at least one detector) then the interference will be destroyed. After conducting such an experiment many times, while measuring which slit the electron went through during each experiment, $O_1$ will see the corresponding non-interference pattern on the photographic plate: two roughly equally-sized diffraction patterns behind each of the slits. No interference pattern."
      ]
    },
    {
      "cell_type": "markdown",
      "metadata": {
        "id": "5RjBrNnwwjVt",
        "colab_type": "text"
      },
      "source": [
        "Let us now introduce another observer $O_2$ outside of the room containing $O_1$ and her double-slit lab. From the standpoint of $O_2$, it is unknown which of the slits the electrons went through during any of the experiments conducted by the observer $O_1$. Of course, as far as $O_2$ is concerned, electrons passing through the slits get entangled with the detector(s) located by those slits. However, the state of the whole room: the electrons, detectors, $O_1$, etc., are described by the wave function evolving unitary and causally according to the Schrodinger's equation. This wave function in particular encodes the knowledge of the state of the electrons from the perspective of the $O_2$."
      ]
    },
    {
      "cell_type": "markdown",
      "metadata": {
        "id": "j2ihylnXxZ_t",
        "colab_type": "text"
      },
      "source": [
        "Now suppose the observer $O_2$ wants to measure (observe) what has happened in the room. The question is: will she ($O_2$) see the interference pattern on the photographic plate, or will she see two separate diffraction patterns?"
      ]
    },
    {
      "cell_type": "markdown",
      "metadata": {
        "id": "pEjBI1rCx4mn",
        "colab_type": "text"
      },
      "source": [
        "Besides conducting her own inspection of the photographic plate she ($O_2$) can discuss it with the observer $O_1$. Recall that the observer $O_1$ will *never* see the interference pattern, because $O_1$ measured which slit each of the electrons went through, which destroyed the interference. Since upon communicating with each other the observers $O_1$ and $O_2$ should agree about their observations, we conclude that $O_2$ also should *never* see any interference pattern on the photographic plate either."
      ]
    },
    {
      "cell_type": "markdown",
      "metadata": {
        "id": "wOQ1-mkzydBF",
        "colab_type": "text"
      },
      "source": [
        "Notice that the observer $O_1$ can be substituted with an inanimate detector or a computer. As long as the observer $O_2$ can use $O_1$ as an independent way to find out that 'it has been measured' (at least in principle, even if it could be practically difficult to access) which slit each of the electrons went through, then $O_2$ will not see the interference pattern. In other words, a classically (and *in principle*) retrievable knowledge should be enough to destroy the interference pattern: one does not need a \"conscious\" observer conducting an experiment."
      ]
    },
    {
      "cell_type": "markdown",
      "metadata": {
        "id": "fEEu_mMvzWCw",
        "colab_type": "text"
      },
      "source": [
        "Therefore before $O_2$ measured the state of the room where $O_1$ and her double-slit experimental lab were located, her description of the electrons landing on the photographic plate was  described by the state vector with a *vanishing* contribution corresponding to having interference peaks on the plate. Rather, the state of the electrons landing on the photographic plate from the perspective of the $O_2$ before the measurement only had non-vanishing contributions due to the two separate diffraction patters behind the slits A and B. How do we derive that?"
      ]
    },
    {
      "cell_type": "markdown",
      "metadata": {
        "id": "p24LNvJ63Jpn",
        "colab_type": "text"
      },
      "source": [
        "When the electron state becomes entangled with the state of the detector(s), the electron state is no longer described by the wave function. Now it's described by the density matrix, which right behind the screen (at the moment $t=+0$) has the form $\\rho(0) = \\frac{1}{2}|A\\rangle\\langle A| + \\frac{1}{2}|B\\rangle\\langle B|$. By the time the electron reaches the photographic plate the density matrix will evolve. To find the density matrix of the electron hitting the photographic plate we simply need to use the evolved states $|A(T)\\rangle$ and $|B(T)\\rangle$ of the electron passed through the slit A and B respectively and hitting the photographic plate at the moment $t=T$. Probability (density of states) to find the electron at the given position $y$ along the photographic plate (the axis $y$ is perpendicular to the slits and is parallel to the photographic plate) is found by calculating the expectation value of the operator $|y\\rangle\\langle y|$ as\n",
        "\\begin{equation}\n",
        "\\textrm{Tr}\\,(\\rho (T) \\,|y\\rangle\\langle y|) = \\frac{1}{2}\\,p_A(y) + \\frac{1}{2}\\,p_B(y)\\,,\n",
        "\\end{equation}\n",
        "where $p_{A,B}(y) = |\\langle A,B(T)|y\\rangle|^2$. So indeed, there is no interference to be expected from the viewpoint of the observer $O_2$ even before the measurement. Instead, we simply have the sum of two probability distributions $p_{A,B}$, instead of the sum of the amplitudes (waves) of probability."
      ]
    },
    {
      "cell_type": "markdown",
      "metadata": {
        "id": "s6hX9BPs4hKo",
        "colab_type": "text"
      },
      "source": [
        "Notice that the setting of multiple observers comparing the results of their measurements of the quantum system has been discussed in the context of quantum mechanics at least since the Einstein-Podolsky-Rosen experiment of 1935 (significantly before the discussion of the so-called many-world interpretation came up in 1957). In that case, two observers, possibly separated by a substantial distance (say, many light-years, or in general space-like separated) conduct a measurement of their half of a quantum-entangled pair. The observers can then travel towards each other (get in touch) and compare the results of their measurements. These results will always agree with the correlation predicted by the state of the quantum entanglement."
      ]
    },
    {
      "cell_type": "markdown",
      "metadata": {
        "id": "susAxP1CZD8x",
        "colab_type": "text"
      },
      "source": [
        "Another question which people sometimes discuss in the quantum-mechanical experiments involving multiple observers is related to the debate of \"when\" the collapse of the wave function has occurred. In the example of the observers $O_{1,2}$ studying the double-slit experiment, considered above, one might get confused by the question of \"when\" does the wave function $|\\psi(0)\\rangle =\\frac{1}{\\sqrt{2}}|A\\rangle +\\frac{1}{\\sqrt{2}}|B\\rangle$ collapse if the observer $O_1$ measures which of the slits the electron goes through. Indeed, since the observer $O_2$ does not measure the state of the room with the observer $O_1$ and her lab, then the state of the electron is uncertain (and is described by the evolving density matrix, written above) with respect to the observer $O_2$ long after it has become certain for the observer $O_1$."
      ]
    },
    {
      "cell_type": "markdown",
      "metadata": {
        "id": "VHebNbqsagii",
        "colab_type": "text"
      },
      "source": [
        "Is it a contradiction? Not at all! Quantum mechanics, discovered by Bohr and Heisenberg, rejects objective reality as an artificial (and physically irrelevant) construct. Different observers in quantum mechanics in principle measure different things (and it is only important that the same observer arrives at the consistent results of her own measurements, which in particular addresses what happens when different observers compare outcomes of their measurements). Each measurement performed by the given observer resolves some of the uncertainty which the observer had before the measurement. However, if one of the observers had received some bit of information about the system (such as, which of the slits the electron went through), it does not mean that the other observers received that information! Uncertainty of knowledge is subjective for different observers, and quantum mechanics explicitly keeps track of this subjectivity by endowing each observer with her own description of the quantum state (encoded in, e.g., wave function or density matrix) which the system is in."
      ]
    },
    {
      "cell_type": "markdown",
      "metadata": {
        "id": "ABKVgpWUbmix",
        "colab_type": "text"
      },
      "source": [
        "Of course, if two (or more) observers meet and discuss their individual measurements of the system, their results should agree, as in the EPR experiment, and the double-slit experiment discussed above. Such an agreement represents one of the experimentally-verifiable tests of quantum mechanics. However, before the measurement of the state of the system, one cannot experimentally verify which state the system was in, and therefore tautologically one cannot do experimental check before the experiment! The whole discussion of the \"problem\" of \"when\" the collapse of the wave function has \"really\" occurred is therefore ill-formulated and vacuous! The correct way of talking about the collapse of the wave function is in the ordinal sense of the updated knowledge, rather than the cardinal sense of the dynamical event occurring at the specific moment in time."
      ]
    }
  ]
}