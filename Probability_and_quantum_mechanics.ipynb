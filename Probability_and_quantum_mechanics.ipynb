{
  "nbformat": 4,
  "nbformat_minor": 0,
  "metadata": {
    "kernelspec": {
      "display_name": "Python 2",
      "language": "python",
      "name": "python2"
    },
    "language_info": {
      "codemirror_mode": {
        "name": "ipython",
        "version": 2
      },
      "file_extension": ".py",
      "mimetype": "text/x-python",
      "name": "python",
      "nbconvert_exporter": "python",
      "pygments_lexer": "ipython2",
      "version": "2.7.3"
    },
    "colab": {
      "name": "Probability_and_quantum_mechanics.ipynb",
      "provenance": []
    }
  },
  "cells": [
    {
      "cell_type": "markdown",
      "metadata": {
        "id": "PQIYBuhBwg2r",
        "colab_type": "text"
      },
      "source": [
        "It appears that one of the most common obstacles which may obstruct one's  understanding of quantum mechanics is the lack of proper understanding of basic probability theory. In particular, the misunderstanding of probability theory is frequently manifested in the belief that the concept of probability used in quantum mechanics is somehow different from the concept of probability used in other branches of physics and mathematics. However, this is impossible: in mathematics and physics correct theories are either unique or dual (equivalent) to each other, and it is impossible to have any plurality of mutually-exclusive interpretations of mathematically or physically precise statements and theories."
      ]
    },
    {
      "cell_type": "markdown",
      "metadata": {
        "id": "cUA9PumLwg2s",
        "colab_type": "text"
      },
      "source": [
        "Let us begin by reviewing foundations of the probability theory, and then proceed to describing the role of probability in quantum mechanics. At the risk of repeating once again the very important message of the previous paragraph it is worth emphasizing that one should make sure to first of all get comfortable with concepts of the probability theory before attempting to understand quantum mechanics. This is because quantum mechanics is essentially and fundamentally a probabilistic theory, and it uses exactly the same concepts of probability as the classic probability theory. One does not have a separate probability theory specifically for quantum mechanics: there is just one probability theory."
      ]
    },
    {
      "cell_type": "markdown",
      "metadata": {
        "id": "J6XhwL8swg2t",
        "colab_type": "text"
      },
      "source": [
        "What is probability? If we were always in the possession of an absolutely certain information we would not need the concept of probability. For instance, suppose that we know for sure that all the balls in the given bag of balls are red. We are asked: \"If I draw one ball out of this bag of red balls, what color will that ball be?\". Applying a straightforward logical reasoning we respond: \"It will be red!\" We can prove the validity of such a response easily by contradiction: suppose the ball is not red, hence it could not have been drawn out of the bag where every ball is red: a contradiction. Hence, the ball is red."
      ]
    },
    {
      "cell_type": "markdown",
      "metadata": {
        "id": "omUMGIPvwg2u",
        "colab_type": "text"
      },
      "source": [
        "(Un)fortunately, the majority of our knowledge in this world is not certain. In the example of the bag of balls considered above, we could have started with the knowledge that there are 100 balls in the bag, of which 50 are red and 50 are black. We receive the same question: \"If I draw a ball out of this bag, what color will it be?\""
      ]
    },
    {
      "cell_type": "markdown",
      "metadata": {
        "id": "lyWbqTsIwg2u",
        "colab_type": "text"
      },
      "source": [
        "A completely reasonable answer is: \"I don't know: I haven't been supplied with enough information!\" This is an absolutely correct response (which the responder generously supplied with comprehensive explanatory reasoning behind it) from the standpoint of the classical logic. However, as I pointed out above, we live in a world where we almost never get \"enough information\". If we always carry out our reasoning according to the laws dictated by the classical logic we hardly will be able to answer any question at all!"
      ]
    },
    {
      "cell_type": "markdown",
      "metadata": {
        "id": "x2Rb5nagwg2v",
        "colab_type": "text"
      },
      "source": [
        "It is illustrative to point out that even a *tiny* deviation from a certain knowledge would *completely* block our ability to come up with the answer to any question. As an example, suppose the bag is filled with 1,000,000 balls of which just one is red and the rest are black, and we have even been told that the contents of the bag have been \"well-mixed\". What would be the color of an arbitrarily drawn ball? If we are constrained to base our response on  classical logic we still cannot answer this question! You can substitute your favorite large number (instead of a million) for the number of balls in the bag, out of which one will be known to be red and the rest will be known to be black,  and nothing will change: the stubborn answer dictated by the classical logic will not budge!"
      ]
    },
    {
      "cell_type": "markdown",
      "metadata": {
        "id": "xmDb7qQTwg2v",
        "colab_type": "text"
      },
      "source": [
        "Such a non-intuitive behavior of the classical logic under the *conditions of uncertainty* makes one wonder about a more \"smooth\" way of reasoning in uncertain conditions which would replace (or rather expand) the reasoning principles of classical logic. In the limiting case of a total certainty, such a way of reasoning should reproduce the laws of classical logic. Fortunately, such a way of logical reasoning under the conditions of uncertainty exists. It is mathematically consistent and experimentally useful. It is called probability theory."
      ]
    },
    {
      "cell_type": "markdown",
      "metadata": {
        "id": "uFfmifD7wg2w",
        "colab_type": "text"
      },
      "source": [
        "> By definition: probability theory is a quantitative extension of the classical logic to the conditions of reasoning under uncertainty."
      ]
    },
    {
      "cell_type": "markdown",
      "metadata": {
        "id": "NBts9LL8wg2w",
        "colab_type": "text"
      },
      "source": [
        "It is worth remarking that such a definition might rub some readers the wrong way, but yet it precisely expresses what probability theory is, and why it is needed. Skipping ahead, we also point out that this is exactly the meaning of probability which Bohr, Heisenberg and von Neumann advocated in quantum mechanics."
      ]
    },
    {
      "cell_type": "markdown",
      "metadata": {
        "id": "kfZBj7Ykwg2x",
        "colab_type": "text"
      },
      "source": [
        "How does the probabilistic logic work? If we want to reason about some event (statement) $E$ whose certainty cannot be ascertained for sure then we assign a number to this event: probability $p(E)$. This number is normalized: for any $E$ we have $ p(E)\\in [0,1] $. If $p(E)=0$ then $E$ is logically false (i.e., the opposite of $E$, given by $\\bar E$, is logically correct), and if $p(E)=1$ then $E$ is logically correct. Such limiting cases of probability allow one to reproduce the situation of certainty, which brings us back to the realm where the classical logic is best applied. However, the most interesting situations are characterized by the intermediate values $p(E)\\in (0,1)$ which bring us outside of the scope of classical logic."
      ]
    },
    {
      "cell_type": "markdown",
      "metadata": {
        "id": "3-ZJDqDHVdnc",
        "colab_type": "text"
      },
      "source": [
        "Axiomatic formalism cementing the concepts of probability as an extension of logic under the conditions of uncertainty is [well known](https://en.wikipedia.org/wiki/Cox%27s_theorem). An interested reader can find a good modern exposition in [Jaynes's book](https://www.amazon.com/Probability-Theory-Science-T-Jaynes/dp/0521592712/ref=sr_1_1?dchild=1&keywords=jaynes+probability&qid=1595317470&sr=8-1). One of the consequences of this formalism is the derivation of the Bayes theorem which allows us to update our beliefs in various points of view based on our prior beliefs in those points of view, new observations, and agreement of those points of view with the new observations."
      ]
    },
    {
      "cell_type": "markdown",
      "metadata": {
        "id": "lJFfwKa9VJVx",
        "colab_type": "text"
      },
      "source": [
        "What does it mean? Returning to the example of the bag of colorful balls, considered above, let us apply the probability theory to reason about what color would be the ball drawn from the bag. According to the probability theory we should be able to make quantitative judgements using unambiguous (in essence, algorithmic) mathematical prescriptions. Let us now review what is the algorithm prescribed by the probability theory."
      ]
    },
    {
      "cell_type": "markdown",
      "metadata": {
        "id": "0asaD2k7wkiV",
        "colab_type": "text"
      },
      "source": [
        "To be specific, let us start with the following initial knowledge of the contents of the bag of balls. Suppose we know that the bag has 100 balls, of which *either* 50 red and 50 black, *or* 80 red and 20 black. Starting from this initial information we have to reason what will be the color of the ball drawn from the bag. As we reviewed above, classical logic cannot help us in this uncertain situation, and we will have to use its extension, given by the probability theory."
      ]
    },
    {
      "cell_type": "markdown",
      "metadata": {
        "id": "LAYI5eZcYcO3",
        "colab_type": "text"
      },
      "source": [
        "Well, we have two *theories*: \n",
        "* Theory-55, which states that the bag has 50 red and 50 black balls.\n",
        "* Theory-82, which states that the bag has 80 red and 20 black balls.\n",
        "\n",
        "\n",
        "We are going to postpone for a minute what does it mean that we have *theories*. For one thing, as of now these theories are formulated *certainly*, not *probabilistically*, a flaw which we will fix below when we address this subtle point in a greater detail."
      ]
    },
    {
      "cell_type": "markdown",
      "metadata": {
        "id": "lKy4o8vMZJ2W",
        "colab_type": "text"
      },
      "source": [
        "For now, we need to define *our beliefs* in theories 55 and 82 quantitatively. According to probability theory the quantitative measure of those beliefs is given by the *probabilities* which we assign to those theories. What are those probabilities equal to? Prior to any observations (i.e., before drawing any balls from the bag) we usually have no way to optimize our choice of those *prior probabilities* $p(55)$ and $p(82)$. (For advanced readers: [Jaynes](https://journals.aps.org/pr/abstract/10.1103/PhysRev.106.620) proposed the entropy maximization principle to pick prior probabilities in given thermodynamic ensembles considered in statistical physics: this prescription makes sense because it immediately yields correct probability distributions for each ensemble.)"
      ]
    },
    {
      "cell_type": "markdown",
      "metadata": {
        "id": "imQCFlkDaRhq",
        "colab_type": "text"
      },
      "source": [
        "One of the requirements of the probability theory is an overall normalization of the total probabilities of the mutually exclusive alternatives: $p(55)+p(82)=1$. Besides, we do not know for sure whether one of the alternatives is definitely correct, i.e., we cannot have either $p(55)=1$ or $p(82)=1$. The rule which prohibits such values of the prior probabilities is sometimes referred to as the [Cromwell's rule](https://en.wikipedia.org/wiki/Cromwell%27s_rule), and it protects us against getting *stuck* in the state of a total certainty. (It is a bit more subtle when we decide which alternatives *are* definitely incorrect, i.e., have zero prior probability, since practically speaking we expect to limit ourselves to a restricted range of plausible assumptions.)"
      ]
    },
    {
      "cell_type": "markdown",
      "metadata": {
        "id": "wmByvP5-eJU0",
        "colab_type": "text"
      },
      "source": [
        "For the lack of any other available information we can pick prior probabilities as $p(55)=p(82)=1/2$. These values represent our equally-balanced ignorance of the validity of each of these two theories: we have no reason to believe that the theory 55 is more plausible than the theory 82, or vice versa, and the equally assigned prior probabilities reflect that. Is this choice of the prior probabilities unique? Of course not! For instance, someone could have started with an extra bit (of subjective to her) knowledge that the country which manufactured the colored ball runs a deficit of black paint and an excess of red paint. Such a person could tend to believe that the theory 82 is more plausible than the theory 55, and pick the prior probabilities as, let's say, $p(55)=1/3$, $p(82)=2/3$. "
      ]
    },
    {
      "cell_type": "markdown",
      "metadata": {
        "id": "YCnh__V_fFMP",
        "colab_type": "text"
      },
      "source": [
        "However, this too is not by any means the only possible assignment of the prior probabilities! Does it mean that such an ambiguity of choice of the prior probabilities is implying some fundamental shortcoming of the theory? On the contrary! *The entire point* of probability theory is to perform quantitative reasoning under *uncertainty*. If we had a certainty about the balls in the bag, we would not need probability theory in the first place! Therefore, there is nothing counter-intuitive in some freedom of choice of the prior probabilities (for instance, the person who knows about the deficit of black paint could choose prior probabilities to be $(p(55),p(82))=(1/3,2/3)$, or $(p(55),p(82))=(1/4,3/4)$, etc.). Such a freedom of choice is a direct counterpart of the statements which one *could make* in the framework of classical logic: before the laws of logical reasoning are applied to establish the validity of those statements."
      ]
    },
    {
      "cell_type": "markdown",
      "metadata": {
        "id": "aZRY_5TWgSzB",
        "colab_type": "text"
      },
      "source": [
        "Let's expand on the last claim: in the classical logic each statement is either true or false. One might start by formulating either true or false statements. We then reason about the validity of those statements and arrive at the conclusion establishing whether each considered statement is true or false. Probability theory, which is an extension of classical logic to reasoning under the conditions of uncertainty, replaces the dichotomy of true and false statements with the continuous scale of probability, extrapolating between those two extremes. *The process* of direct reasoning in classical logic is then replaced with its counterpart *process* of updating our original (prior) probabilistic beliefs with new (posterior) probabilities while incorporating the newly absorbed information."
      ]
    },
    {
      "cell_type": "markdown",
      "metadata": {
        "id": "DuRB5uv7hXeC",
        "colab_type": "text"
      },
      "source": [
        "Suppose that the only bit of information we know is that the country which manufactured the colored balls runs a deficit of black paint and an excess of red paint. Can we then tell apart which choice of prior probabilities, $(p(55),p(82))=(1/3,2/3)$, or $(p(55),p(82))=(1/4,3/4)$, is better? Before we receive any more information: no! An attempt to *confidently differentiate* these choices of the prior probability would have been based on an erroneous desire to apply classical logic to the situation where it is clearly inapplicable!"
      ]
    },
    {
      "cell_type": "markdown",
      "metadata": {
        "id": "vJdQC_1siQ52",
        "colab_type": "text"
      },
      "source": [
        "So, how should we reason about various prior probabilities? To avoid confusing the reader let us return to the plain choice $(p(55),p(82))=(1/2,1/2)$, which doesn't assume any possible extra knowledge about the state of various paints in the country manufacturing the balls. Probability theory tells us how these values are to be updated when we receive new information $E$. As we already mentioned above this update is performed via the use of the Bayes theorem,\n",
        "\\begin{align}\n",
        "p(55|E) = \\frac{1}{Z}\\,p(E|55)\\,p(55)\\,,\\qquad p(82|E) = \\frac{1}{Z}\\,p(E|82)\\,p(82)\\,,\n",
        "\\end{align} \n",
        "where $Z$ is the 'partition sum' introduced to ensure that the posterior probabilities are normalized, $p(55|E)+p(82|E)=1$. That is, $Z=p(E|55)\\,p(55)+p(E|82)\\,p(82)$. Notice that we called the new probabilities posterior as a pure matter of convention. In fact, in the series of experiments $\\dots, i,i+1,\\dots$ posterior probability after the event $i$ is the prior probability before the event $i+1$."
      ]
    },
    {
      "cell_type": "markdown",
      "metadata": {
        "id": "g2KCSRRgj_MN",
        "colab_type": "text"
      },
      "source": [
        "The remaining ingredient of the Bayes theorem which we need to discuss is given by the plausibility of the observation $E$ in the framework of the theories 55 and 82. We have already mentioned above the existence of the related subtlety regarding what do we mean exactly by having two alternative theories about the balls drawn from the bag. Now we are going to address this subtlety. To be specific, we could have started by saying that the theory 55 claims that $p(\\textrm{red}|55)=1/2$, $p(\\textrm{black}|55)=1/2$. These expressions are meant to quantitatively assert how plausible would it be, according to theory 55, to draw a red or a black ball out of the bag. That is, the plausibility of the possible observation in a given theory has a probabilistic nature: it specifies what are the *conditional probabilities* of each of the possible observations according to that theory (in this case it is enough to specify just one probability, say, of drawing the red ball). On the other hand, we similarly state that the theory 82 is defined by the conditional probabilities $p(\\textrm{red}|82)=4/5$, $p_(\\textrm{black}|82)=1/5$. This is where we come across an important subtlety."
      ]
    },
    {
      "cell_type": "markdown",
      "metadata": {
        "id": "kuvNw0P8lp31",
        "colab_type": "text"
      },
      "source": [
        "Why did we write, for instance, $p(\\textrm{red}|82)=4/5$, $p(\\textrm{black}|82)=1/5$? How should one even calculate these probabilities? A reader might quickly respond: we calculated these probabilities because we have been told that according to the theory 82 the bag is said to have 80 red and 20 black balls, and therefore the probability of a red ball due to this theory should be calculated as $80/(80+20) = 4/5$ (and, correspondingly, the probability of the black ball is found to be $20/(80+20)=1/5$). Is this reasonable? Absolutely not!"
      ]
    },
    {
      "cell_type": "markdown",
      "metadata": {
        "id": "kct4ZU6CmSCb",
        "colab_type": "text"
      },
      "source": [
        "What is the right way of talking about alternative theories regarding the contents of the bag of balls? To answer this question we should remind ourselves once again the definition of probability as an extension of classical logic to the conditions of *uncertainty of our knowledge*. What would a probabilistic theory describing our knowledge of the balls in the bag look like? Is it really the theory about *the bag*? Or is it the theory about *our knowledge* of how the balls are being drawn out of the bag? The latter is true, while the former is false."
      ]
    },
    {
      "cell_type": "markdown",
      "metadata": {
        "id": "qjg8AA6ttJ4w",
        "colab_type": "text"
      },
      "source": [
        "Indeed, the person who draws the balls out of the bag could draw any ball (red or black) in any order she pleases (let's assume that the balls are returned to the bag after each draw, that is, we are considering the situation of draws with replacement). She merely needs to look at the ball before drawing it, and then pick and decide whether to draw the ball or not based on its color. The outcome of such a method of drawing the balls can be any, provided the bag has at least one red and at least one black ball."
      ]
    },
    {
      "cell_type": "markdown",
      "metadata": {
        "id": "iKrFV4JItqv7",
        "colab_type": "text"
      },
      "source": [
        "With this in mind, what does it mean then that we have two alternative theories, 55 and 82? It means that we restricted ourselves to considering two *probabilistic theories* reflecting uncertainty of our knowledge of how the balls are going to be drawn out of the bag using quantitative probabilistic terms. This way, \"the probability to draw a red ball\" is well defined even for a single draw, rather than only for a limiting large number of draws (with replacement). In fact, we *have to* specify such probabilistic theories as 55 and 82 even for a single draw because by definition of the probability theory we need those models to make judgments under the conditions of uncertainty. We should be able to make such judgments in particular about the uncertain event of a single draw of a ball from the bag.  Such a correct understanding of the concept of probability in terms of the probabilistic theories is different from the incorrect understanding of the probability as a \"limiting frequency\" of the kind $80/(80+20)=4/5$ considered above."
      ]
    },
    {
      "cell_type": "markdown",
      "metadata": {
        "id": "fmha8MrYvB-3",
        "colab_type": "text"
      },
      "source": [
        "Defining probability as a limiting frequency creates a plethora of logical and conceptual difficulties. One of the key problems, considered above, is given by circular reasoning which one has to resort to when trying to determine which limiting frequency would follow from the given probability. Notice that any successful way of defining the probability should provide us with a prescription of *deriving* this frequency, because this frequency of red balls is an *observable*, and the theory should better make a prediction about the value of this observable. It appears that an \"intuitive\" calculation \"80/(80+20)=4/5\" of the probability to draw a red ball represents the assumption that a \"random\" way of drawing the ball out of the bag with 80 red and 20 black balls will converge in the limit of a large number of draws (with replacement) to the value of $4/5$. But what is this \"random\" way of drawing the balls? The point is that one cannot possibly *define* this \"random\" way of drawing the balls without inevitably resorting to the requirement that it should result in the limiting frequency of $4/5$, thereby committing the logical fallacy of circular reasoning!"
      ]
    },
    {
      "cell_type": "markdown",
      "metadata": {
        "id": "AeaFD_tiwKSl",
        "colab_type": "text"
      },
      "source": [
        "Indeed, if the person draws 100 black balls in a row (with replacement) because she happened to have looked at the balls before drawing them and picked the black balls intentionally we would have thought that the probability of getting a black ball is 1 (or that the probability of a red ball is 0 at a large confidence level). The reader will protest: such a way of drawing the balls is not random! Well, what if the person still looks at the balls, draws every fifth ball to be black, and the rest to be red? Such a way of drawing the balls easily agrees with the definition of probability as a limiting frequency of $4/5$ yet the justification for such a method remains dubious and impossible to state independently! We inexorably return to the necessity to define the way of drawing the balls by requiring that the outcome of those draws satisfies certain conditions (given value of the frequency, lack of correlations between individual draws, etc.) imposed on *observables* which are supposed to follow *from* the probability theory, not vice versa!"
      ]
    },
    {
      "cell_type": "markdown",
      "metadata": {
        "id": "ug0i5UpGxcay",
        "colab_type": "text"
      },
      "source": [
        "Therefore, in order to reason about the probability of drawing a ball of the given color, we need to be talking about the probabilities describing *our knowledge* of the methods of drawing the balls. This way we avoid running into mathematical or logical inconsistencies and can be talking about the probabilities of drawing each ball. In other words, we describe the uncertainty of our knowledge about the process of drawing the balls from the bag rather than describing the properties of the bag, the balls, or the person making the draws."
      ]
    },
    {
      "cell_type": "markdown",
      "metadata": {
        "id": "ePDVEG_eyKK9",
        "colab_type": "text"
      },
      "source": [
        "This is an extremely important point which one needs to be comfortable with before continuing to talk about probabilities in general and their application to quantum mechanics in particular. *The only* mathematically consistent way of talking about probabilities is given by treating probability as an extension of logic to the conditions of uncertainty of our knowledge. \n",
        "\n",
        ">Probability is *never* defined as a property of the considered system. The latter statement in particular reflects the fact that probability is not an observable. Rather, probability *always* refers to the state of *our* uncertain knowledge."
      ]
    },
    {
      "cell_type": "markdown",
      "metadata": {
        "id": "2tyVz4QSy-X_",
        "colab_type": "text"
      },
      "source": [
        "A red ball in the theory 82 does not have the probability of being drawn calculated as $80/(80+20)=4/5$. Such a derivation makes no sense, and cannot be carried out within the probability theory. The correct version of this statement is the following:\n",
        "\n",
        "> There is a probabilistic theory (which we called 82) according to which the probability of drawing a red ball is equal to 4/5 (and the probability of drawing the black ball is equal to 1/5). This probabilistic theory is *not* the theory of the contents of the bag, but is a quantitative description of our uncertain opinion, within the scope of this theory, of how the balls are being drawn from the bag.\n",
        "\n"
      ]
    },
    {
      "cell_type": "markdown",
      "metadata": {
        "id": "xsmCAPp_k1Kh",
        "colab_type": "text"
      },
      "source": [
        "Consider now the event $E$ of drawing a ball out of the bag. If $E=\\textrm{red}$, i.e., the drawn ball is red, then we *must* update our prior probabilistic beliefs in the probabilistic models describing the process of drawing the balls out of the bag. This is done according to the Bayes theorem:\n",
        "\\begin{equation}\n",
        "p(55|\\textrm{red}) = \\frac{1}{Z}\\,\\frac{1}{2}\\times \\frac{1}{2} = \\frac{1}{4Z}\\,,\\quad p(82|\\textrm{red}) = \\frac{1}{Z}\\,\\frac{4}{5}\\times \\frac{1}{2}=\\frac{2}{5Z}\\,,\\quad Z = \\frac{1}{4}+\\frac{2}{5} = \\frac{13}{20}\\,.\n",
        "\\end{equation}\n",
        "Finally, for the updated posterior probabilities we obtain\n",
        "\\begin{equation}\n",
        "p(55|\\textrm{red}) = \\frac{5}{13}\\,,\\quad p(82|\\textrm{red}) = \\frac{8}{13}\\,.\n",
        "\\end{equation}\n",
        "As one can see, our belief (which we measure in terms of probabilities) in the theory 82 became slightly stronger than our belief in the theory 55. This makes intuitive sense since we observed a red ball which is more likely to happen according to the theory 82 than according to the theory 55."
      ]
    },
    {
      "cell_type": "markdown",
      "metadata": {
        "id": "LAFqe7aemlDL",
        "colab_type": "text"
      },
      "source": [
        "The Bayes theorem is a *necessary* prescription of the quantitative logic of the probability theory which we must apply to our probabilistic beliefs when making inferences while receiving new information. The Bayes theorem is a *quantitative counterpart* of the reasoning process in the classical logic, extending the classical logic to the reasoning done under the conditions of uncertainty."
      ]
    },
    {
      "cell_type": "markdown",
      "metadata": {
        "id": "Zyz11gwvnmaB",
        "colab_type": "text"
      },
      "source": [
        "**We have discussed the introduction to probability theory as an extension of classical logic in the condition of the uncertainty of _our knowledge_ of random events. Is it important whether the random events are in fact pseudo-random as in the classical statistical mechanics (where _in principle_ it is possible to precisely describe the exact motion of every microscopic component of the system using the deterministic Newtonian mechanics), or genuinely random as in quantum mechanics where our uncertain knowledge of the system before the measurement is fundamentally probabilistic? Absolutely no! In both cases, we have the same probability theory, which supplies us with the unique and universal way to reason about the events under the conditions of uncertainty. Uncertainty remains an uncertainty, and the way we make judgments about it remains the same regardless of whether that uncertainty bears a fundamental character (as in quantum mechanics) or is \"simply\" emergent due to practical difficulties which we would have encountered while attempting to solve the deterministic equations describing dynamics of the system (as in the classical statistical physics, gambling, etc.)**"
      ]
    },
    {
      "cell_type": "markdown",
      "metadata": {
        "id": "eLpkFnBwprnA",
        "colab_type": "text"
      },
      "source": [
        "**Application of the probability theory in statistical physics is in no way relying on the \"theoretically possible\" deterministic description of the statistical system in terms of the Newtonian mechanics! Quite on the contrary: such a deterministic description is discarded as impractical both theoretically and experimentally. Therefore, there is _no trace_ of the underlying determinism in classical statistical physics and in its use of the probability theory. This explicitly demonstrates the equivalent nature which the probability theory plays both in classical statistical physics and in quantum mechanics, _despite_ the different nature of randomness in these two branches of physics.**"
      ]
    },
    {
      "cell_type": "markdown",
      "metadata": {
        "id": "YrF-nSNPqn2F",
        "colab_type": "text"
      },
      "source": [
        "Thus, we conclude our discussion of the foundations of the probability theory and proceed to the discussion of *observable* predictions of the theory."
      ]
    },
    {
      "cell_type": "markdown",
      "metadata": {
        "id": "2OoNgISYzmu3",
        "colab_type": "text"
      },
      "source": [
        "As we already noted above probability is not an observable quantity. In particular, its definition in terms of a limiting frequency is not consistent because the observable frequency should be derived from the probability rather than the other way around. The correct way of talking about the limiting frequency consists of explicitly redefining this frequency as a measured value of an observable, in the framework of probability as an extension of classical logic to the conditions of uncertainty."
      ]
    },
    {
      "cell_type": "markdown",
      "metadata": {
        "id": "tca90fwf0Onn",
        "colab_type": "text"
      },
      "source": [
        "Let's return to the example of the bag with red and black balls. For the sake of convenience let us denote the red color with the number 1 and the black color with the number 0. Such a quantitative redefinition facilitates the possibility to calculate, say, an 'average' color of several drawn balls. Such an average color is an observable analogous to the frequency of drawing the red ball. The important subtlety is that we are not going to use the observable quantity (average color of drawn balls) to determine an unobservable quantity (probability). On the contrary, we will use the Bayes theorem to derive the average color."
      ]
    },
    {
      "cell_type": "markdown",
      "metadata": {
        "id": "ubuYWbut1NlB",
        "colab_type": "text"
      },
      "source": [
        "It is not infrequent for people talking about quantum mechanics to make erroneous statements which can essentially be traced back to a misunderstanding of the concepts of probability theory. A specific example of an erroneous thinking is given by an implicit or explicit assumption that the wave function possesses an \"observable physical meaning\" and exists objectively. Since the wave function is essentially (a complex-valued and dynamical wave of) probability the erroneous statements about the observable nature of the wave function originate from the erroneous opinions about the observable nature of the probability. One of the consequences of such a fallacious thinking is given by the assertion that the collapse of the wave function is a problematic feature of quantum mechanics which needs an explanation in terms of some \"more fundamental underlying dynamics\" (which is known as the [measurement problem](https://en.wikipedia.org/wiki/Measurement_problem)). **In reality, however, the wave function is not an observable, and its collapse, in particular, is not observable.**"
      ]
    },
    {
      "cell_type": "markdown",
      "metadata": {
        "id": "uvc7Ov6q2tO1",
        "colab_type": "text"
      },
      "source": [
        "Getting back to the bag of colored balls: let's say we want to know which color will be the ball drawn from the bag. Unlike the probability itself the color is a well-defined observable. Let us call it ${\\cal C}$. The 'eigenvalues' of this observable are 1 (red color) and 0 (black color). This observable is a random variable, and therefore we can talk about an average of this random variable for some probability distribution over its eigenvalues. Notice that this probability distribution is not an observable, while the average, variance, higher moments, correlations, etc., are observables! "
      ]
    },
    {
      "cell_type": "markdown",
      "metadata": {
        "id": "0uIY7J7_3Ssy",
        "colab_type": "text"
      },
      "source": [
        "Suppose we do not know anything about the bag or the way the balls are drawn out of the bag. We need to come up with a quantitative model describing what will be the color of balls drawn from the bag. We know how to approach this problem using the probability theory. We need to start with the prior probabilities for various probabilistic models. Above we have considered two such models: 82 and 55, and explained how these models are defined by the conditional probabilities which they assign to drawing a ball of each color. "
      ]
    },
    {
      "cell_type": "markdown",
      "metadata": {
        "id": "GZqfAKah6lin",
        "colab_type": "text"
      },
      "source": [
        "In general, it is not enough to deal with just two models. Let's start with, say, 101 models (the number of models is determined by the level of accuracy which we want to attain in making our predictions). By definition, the model $i$ says that the probability of drawing a black ball (with replacement) is given by $i/100$ (and correspondingly the probability of drawing a red ball according to the model $i$ is given by $1-i/100$)."
      ]
    },
    {
      "cell_type": "markdown",
      "metadata": {
        "id": "JTj1dIzH7Hxt",
        "colab_type": "text"
      },
      "source": [
        "To be specific, let's assume that we are observing a sample (generated using the pseudo-random generator of the Python module numpy) of 1000 colors with the (independent and identically distributed) 'probability equal to 0.75' for drawing a red ball. This is how we are going to update our beliefs in various models using the Bayes theorem:"
      ]
    },
    {
      "cell_type": "code",
      "metadata": {
        "id": "dW2bKcUu7heS",
        "colab_type": "code",
        "colab": {
          "base_uri": "https://localhost:8080/",
          "height": 286
        },
        "outputId": "b65ec821-8b5b-4cb5-c6b0-698fb3b9ac4b"
      },
      "source": [
        "import numpy as np\n",
        "import matplotlib.pyplot as plt\n",
        "\n",
        "events = np.random.choice([0, 1], 1000, p = [0.25, 0.75])\n",
        "\n",
        "models = [[i / 100.0, 1 - i / 100.0] for i in range(101)]\n",
        "prob = [1 / 101.0 for i in range(101)]\n",
        "\n",
        "for e in events:\n",
        "    prob = [models[i][e] * prob[i] for i in range(101)]\n",
        "    prob = prob / np.sum(prob)\n",
        "\n",
        "plt.plot(prob)\n",
        "\n",
        "prediction = np.sum([(1-i/100.0) * prob[i] for i in range(101)])\n",
        "prediction = int(101.0 * prediction) / 101.0\n",
        "observation = np.sum(events) / 1000.0\n",
        "\n",
        "print \"Prediction = {}, Observation = {}\".format(prediction, observation)"
      ],
      "execution_count": null,
      "outputs": [
        {
          "output_type": "stream",
          "text": [
            "Prediction = 0.752475247525, Observation = 0.756\n"
          ],
          "name": "stdout"
        },
        {
          "output_type": "display_data",
          "data": {
            "image/png": "[encoded data removed]",
            "text/plain": [
              "<Figure size 432x288 with 1 Axes>"
            ]
          },
          "metadata": {
            "tags": [],
            "needs_background": "light"
          }
        }
      ]
    },
    {
      "cell_type": "markdown",
      "metadata": {
        "id": "MvIRzMU7pqhh",
        "colab_type": "text"
      },
      "source": [
        "Notice that we started with *a priori* equal probabilities assigned to the 101 probabilistic models. Yet due to performing Bayesian inferences after 1000 observations, there is a clear peak around $p=0.75$. The observable frequency of a red ball (i.e., the average color) is ${\\cal C} = 0.75$ in agreement with its prediction using the Bayes theorem (although this 'prediction' was made for the training set it will be accurate on the test set as well). Notice how the logical arrow of inference is *probability*$\\rightarrow$*frequency*, not vice versa!"
      ]
    },
    {
      "cell_type": "markdown",
      "metadata": {
        "id": "Webj7CEH9jTO",
        "colab_type": "text"
      },
      "source": [
        "Now as we reviewed the foundations of the probability theory we can go on discussing the foundations of quantum mechanics."
      ]
    },
    {
      "cell_type": "markdown",
      "metadata": {
        "id": "lMupHXl79uxP",
        "colab_type": "text"
      },
      "source": [
        "The discovery of quantum mechanics demonstrated that classical determinism has no place in fundamental physics. On the most fundamental level, the state of a physical system is encoded in the state vector in the Hilbert space, and any physical dynamics is determined by the Hamiltonian of the system and is described by the evolution of this state (wave function or density matrix) according to the Schrodinger's or the von Neumann's equation."
      ]
    },
    {
      "cell_type": "markdown",
      "metadata": {
        "id": "Q2zb6q6u-c-H",
        "colab_type": "text"
      },
      "source": [
        "What is a wave function? A wave function is a mathematical formalism, not a physically observable object. The non-trivial breakthrough made by Bohr and Heisenberg was the realization that on the fundamental level all observable properties of physical systems are encoded in a non-observable wave function. At the same time, quantum mechanics supplies us with the precise prescription of how the wave function is to be used to derive observable quantities."
      ]
    },
    {
      "cell_type": "markdown",
      "metadata": {
        "id": "49lIhaXk--1d",
        "colab_type": "text"
      },
      "source": [
        "The quantum-mechanical counterpart of the random experiment with colored balls relies on the existence of the hermitian operator ${\\cal C}$ with eigenvalues 0 and 1. Any observation of ${\\cal C}$ always yields either one of these two eigenvalues. As it was emphasized by [Heisenberg](https://www.amazon.com/Physics-Philosophy-Revolution-Modern-Science/dp/0061209198/ref=sr_1_1?dchild=1&keywords=heisenberg+physics+and+philosophy&qid=1595342381&sr=8-1\") one of the essential physical cornerstones of quantum mechanics is given by the insistent emphasis on making physical predictions only about *physically observable quantities*."
      ]
    },
    {
      "cell_type": "markdown",
      "metadata": {
        "id": "kFvuPIYKF3q5",
        "colab_type": "text"
      },
      "source": [
        "That is, while on the most fundamental level one can encode the whole state of the system and all of its dynamics in the wave function and its unitary evolution, the physical predictions of quantum mechanics are concerned with the observables expressed in terms of the corresponding hermitian operators. At the same time, the wave function itself is not an observable, and quantum mechanics is not concerned with endowing the wave function with any sort of an observable physical meaning. Instead, quantum mechanics deals with quantities such as expectation values of observables such as ${\\cal C}$, which are written down in terms of the matrix elements (in the corresponding representation, or a basis) such as $\\langle \\psi| {\\cal C}|\\psi\\rangle$."
      ]
    },
    {
      "cell_type": "markdown",
      "metadata": {
        "id": "QYBxOACyGppY",
        "colab_type": "text"
      },
      "source": [
        "How does the probability theory come into play? It turns out that an individual measurement of an observable corresponding to the operator ${\\cal C}$ results in *random* outcomes (in general, we need a repeated experiment performed on systems prepared in identical initial states because the measured operator in the given system will remain to be in the state we found it in). For instance, the Geiger counter will randomly detect events of radioactive decay in accordance with the Poisson distribution, which indicates an exponential distribution describing the underlying probability of the decay of each individual radioactive (unstable) nucleus. This probability is encoded in the quantum state of the system."
      ]
    },
    {
      "cell_type": "markdown",
      "metadata": {
        "id": "V9KvPkEJHXs7",
        "colab_type": "text"
      },
      "source": [
        "Can we observe this exponential probability distribution which describes the radioactive decay? No, we can't. But we can observe, for instance, parameters of this exponential distribution, specifically the radioactive half-time. Yet the probability itself, which describes *our uncertainty* as to whether the nucleus decayed or will decay, is itself not an observable property of the nucleus. "
      ]
    },
    {
      "cell_type": "markdown",
      "metadata": {
        "id": "E7DA3ZwcHzQU",
        "colab_type": "text"
      },
      "source": [
        "Quantum mechanics does not allow us to observe the probability of the radioactive decay, the same way as classical statistical physics does not let us observe the Boltzmann distribution! Instead, we can observe (measure) the temperature which is a parameter of the canonical ensemble described by the given Boltzmann distribution. Or we can measure the density of states in the given range of energies. But we cannot observe the probability! The probability is not an observable quantity!"
      ]
    },
    {
      "cell_type": "markdown",
      "metadata": {
        "id": "RtSo9ys6IZN_",
        "colab_type": "text"
      },
      "source": [
        "Analogously, in quantum mechanics, we can observe, say, an average number of radioactive decays that occurred during the given period of time (which is related to the inverse average life-time of the corresponding exponential distribution describing the decay of each individual radioactive nucleus). But the Poisson distribution itself can't be observed. (Notice that the histogram of a given distribution *is* an observable, because the histogram is a direct product of densities in different ranges, i.e., bins, of the considered parameter, where each density operator is itself a well-defined observable.)"
      ]
    },
    {
      "cell_type": "markdown",
      "metadata": {
        "id": "6GWtEhAsvz97",
        "colab_type": "text"
      },
      "source": [
        "When calculating the average $\\langle\\psi| {\\cal C}|\\psi\\rangle$ of some operator ${\\cal C}$ in the quantum system in the state $|\\psi\\rangle$ we implicitly use the Born rule as a prescription of quantum mechanics. Consider, for instance, the state $|\\psi\\rangle = \\frac{1}{2}|0\\rangle +\\frac{\\sqrt{3}}{2}|1\\rangle$, where $\\langle i|j\\rangle = \\delta_{ij}$ for $i,j=0,1$. Simple linear algebra gives\n",
        "\\begin{equation}\n",
        "\\langle \\psi| {\\cal C}|\\psi\\rangle = \\frac{1}{4}\\times 0 +\\frac{3}{4}\\times 1 = \\frac{3}{4}\\,.\n",
        "\\end{equation}\n",
        "The value of $\\langle \\psi| {\\cal C}|\\psi\\rangle$ is an observable which we can measure, and which we can compare with the prediction $\\langle \\psi| {\\cal C}|\\psi\\rangle = 3/4$. However, the *individual terms* in the sum $\\frac{1}{4}\\times 0 +\\frac{3}{4}\\times 1$ are not observables! Only their total sum, which in this case is equal to $3/4$, constitutes an observable. This is a particular manifestation of the fact that the probabilities are not observable, while averages etc, are observables.\n",
        "\n",
        "Yet, being decomposed as $\\frac{1}{4}\\times 0 +\\frac{3}{4}\\times 1$ the expression $\\langle \\psi| {\\cal C}|\\psi\\rangle$ is *effectively* and *implicitly* represented as an average over the eigenvalues $(0,1)$ calculated using the probabilities $(1/4,3/4)$. This straightforward example illustrates that the Born rule is in fact emergent:\n",
        "\n",
        ">The observables in the quantum system described by the given state $|\\psi\\rangle$ are such that their statistical values (averages, variances, correlations, etc.) behave *as if* they were calculated using the probability distribution dictated by the Born rule for the state $|\\psi\\rangle$.\n",
        "\n",
        "Therefore, there is nothing about the Born rule which would demand an extra explanation of the origin of the probabilities, encoded in the wave function. The Born rule simply *follows* from the linear algebra, as illustrated above!"
      ]
    },
    {
      "cell_type": "markdown",
      "metadata": {
        "id": "xeyLUDV6zvG5",
        "colab_type": "text"
      },
      "source": [
        "In other words, the Born rule is not required as a separate input needed to carry out specific calculations in quantum mechanics. Misunderstanding of this *effective* role of the Born rule is frequently found in discussions of quantum mechanics, where the probability distributions implied by the Born rule are attributed with some extra aura of mystery demanding an explanation in terms of some \"final and more fundamental\" theory."
      ]
    },
    {
      "cell_type": "markdown",
      "metadata": {
        "id": "E9nqURCxwG12",
        "colab_type": "text"
      },
      "source": [
        "One of the most popular ways of carrying out concrete calculations in quantum mechanics (and especially in quantum field theory) is given by the path integral formalism. The path integral formalism is *designed* specifically to talk only about *observable* quantities. For instance, the average of the observable operator ${\\cal C}$ is calculated as $\\langle {\\cal C}\\rangle = \\frac{1}{Z}\\,\\int [Dc]\\,{\\cal C}\\,e^{-S[c]}$. Since every known quantum-mechanical system can be formulated, at least in principle, in terms of the path integral formalism, there are no *observables* left over which would not be possible to describe within the framework of the path integral. The collapse of the wave function, in particular, is *not observable*, and it presents neither a physical issue nor an open problem for the path integral formalism. Therefore, the \"nature of the collapse of the wave function\" is not an open problem in quantum mechanics."
      ]
    },
    {
      "cell_type": "markdown",
      "metadata": {
        "id": "_QOPrJq11MAS",
        "colab_type": "text"
      },
      "source": [
        "Consequently, it is not reasonable to believe that the collapse of the wave function should be possible to describe on some \"more fundamental level\" via a causal and unitary evolution of the \"full\" quantum system (in particular and especially by the Schrodinger's equation). The adjective \"full\" used in the previous sentence can be frequently found to imply the most general description of a closed system on the quantum level, without resorting to the classical approximation of the dynamics of the observer, etc. However, the existence of the path integral formalism is sufficient to rule out such a misunderstanding: the path integral already contains *all* the information about the unitary evolution of a quantum system. Therefore, if unitary evolution could describe the collapse of the wave function on some \"more fundamental level\" this description would have been found within the path integral framework. Since it is not there, the collapse of the wave function cannot possibly be part of the causal unitary evolution."
      ]
    },
    {
      "cell_type": "markdown",
      "metadata": {
        "id": "SuBzcDMA2VxV",
        "colab_type": "text"
      },
      "source": [
        "In other words, one of the implications of the possibility to describe all quantum physics (at least in principle) within the framework of the path integral formalism is that the probabilities implied by the Born rule describe *our* uncertain knowledge of the system, not the system itself, and the 'collapse' of those probabilities during observations (collapse of the wave function) corresponds to the *ordinal update of our knowledge, rather than to the cardinal dynamical change in the system*. That is, the path integral formalism essentially proves that the probability theory is an extension of logic to the situation of our reasoning under the conditions of uncertainty!"
      ]
    },
    {
      "cell_type": "markdown",
      "metadata": {
        "id": "8KA-cXVP3CRb",
        "colab_type": "text"
      },
      "source": [
        "In the past, deep problems of physics were essentially related to roadblocks encountered while attempting to reconcile existing theories with the *observed* phenomena. For instance, the relativity theory replaced the Newtonian mechanics as it proved to be more accurate in describing the behavior of systems at large velocities and in a strong gravitational field. String theory in turn (and in particular) generalized general relativity since it extended Einstein's theory of gravitation to the high energies of Planck's scale where quantum effects of gravity can no longer be neglected. (There are no observations at the Planck's scale, but we know that the general relativity and quantum mechanics, which are experimentally successful at energies well below the Planck's scale, have to be reconciled theoretically at high energies.) However, there is *no* analogous crisis in quantum mechanics which would require us to revise its foundations and/or construct a more full or a \"more fundamental\" theory. Misunderstanding of this fact is easily explained by the confusion about the history of physics."
      ]
    },
    {
      "cell_type": "markdown",
      "metadata": {
        "id": "vgStzYC94Q5F",
        "colab_type": "text"
      },
      "source": [
        "So what is the correct way of talking about the measurement in quantum mechanics which would help us avoid getting trapped trying to solve the pseudo-problem of explaining the nature of the collapse of the wave function? As we argued above, the correct understanding of the probability theory as an extension of logic to the situation of the uncertainty of our knowledge provides the solution to this question. This is how we should understand the probabilistic nature of the wave function and its collapse:"
      ]
    },
    {
      "cell_type": "markdown",
      "metadata": {
        "id": "3l0F6tz945br",
        "colab_type": "text"
      },
      "source": [
        "From the point of view of the probability theory, the collapse of the wave function is completely analogous to its classical counterpart of observing a red or a black ball randomly drawn out of the bag. Before the ball has been drawn we were uncertain about what color it was going to be. We characterized this uncertainty of our knowledge using the quantitative formalism of the probability theory. In a completely analogous way, the wave function of quantum mechanics represents a complex-valued probability wave, which is intended to quantify the uncertainty of *our knowledge* of the quantum system. After the ball has been drawn, the state of our knowledge is no longer uncertain: we have measured the value of the corresponding operator ${\\cal C}$ to be either 0 (black) or 1 (red). Quantum mechanics defines the process during which *our knowledge* of the system has been updated as the collapse of the wave function."
      ]
    },
    {
      "cell_type": "markdown",
      "metadata": {
        "id": "IW1t6ZU_5aUk",
        "colab_type": "text"
      },
      "source": [
        "Moreover, quantum mechanics claims that the probabilistic description of physical systems has a fundamental nature. Yet, the probabilistic essence itself as we argued above is still the same as in the classical probability theory. Probability theory is the same across all of the  science!"
      ]
    },
    {
      "cell_type": "markdown",
      "metadata": {
        "id": "T19520QV6DHp",
        "colab_type": "text"
      },
      "source": [
        "Quantum mechanics is built on top of the classical probability theory while inheriting all the standard rules and meaning of the classical probabilities. Quantum mechanics endows the wave function with dynamics, and its evolution is described by the Schrodinger's equation. Since the wave function is complex-valued, the probabilities are subject to the interference phenomenon, which is unknown in the classical probability theory. All these quantum aspects of the wave function are perfectly contained in the path integral formalism. However, these extra purely quantum features of the wave function do not negate the fact that its probabilistic essence is still perfectly compatible with the classical probability theory as an extension of logic to the conditions of uncertainty."
      ]
    }
  ]
}